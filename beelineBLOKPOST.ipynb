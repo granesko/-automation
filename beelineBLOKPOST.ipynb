{
 "cells": [
  {
   "cell_type": "code",
   "execution_count": 2,
   "metadata": {},
   "outputs": [],
   "source": [
    "from selenium import webdriver\n",
    "import time\n",
    "from selenium.webdriver.support.ui import WebDriverWait\n",
    "from selenium.webdriver.support import expected_conditions as EC\n",
    "from selenium.webdriver.common.by import By\n",
    "from selenium.webdriver.common.keys import Keys\n",
    "from selenium.common.exceptions import NoSuchElementException\n",
    "from selenium.common.exceptions import TimeoutException\n",
    "from selenium.webdriver.firefox.firefox_binary import FirefoxBinary\n",
    "from selenium.webdriver.firefox.options import Options as FirefoxOptions"
   ]
  },
  {
   "cell_type": "markdown",
   "metadata": {},
   "source": [
    "#### Заходим с портативной версии браузера на сайт билайна"
   ]
  },
  {
   "cell_type": "code",
   "execution_count": 53,
   "metadata": {},
   "outputs": [],
   "source": [
    "binary = FirefoxBinary('FirefoxPortable\\\\App\\\\Firefox64\\\\firefox.exe')\n",
    "driver = webdriver.Firefox(capabilities={\"marionette\": True}, firefox_binary=binary,executable_path='geckodriver.exe')\n",
    "driver.get('http://beeline.amega-inform.ru/')"
   ]
  },
  {
   "cell_type": "markdown",
   "metadata": {},
   "source": [
    "#### Вводим логин и пароль и переходим в пункт отчеты"
   ]
  },
  {
   "cell_type": "code",
   "execution_count": 54,
   "metadata": {},
   "outputs": [],
   "source": [
    "login = '776300'\n",
    "password = '89624483010'\n",
    "\n",
    "log = driver.find_element_by_name('login')    \n",
    "log.send_keys(login)\n",
    "\n",
    "pas = driver.find_element_by_name('pass')    \n",
    "pas.send_keys(password)\n",
    "\n",
    "to_come = driver.find_element_by_name('imageField')\n",
    "to_come.click()"
   ]
  },
  {
   "cell_type": "markdown",
   "metadata": {},
   "source": [
    "#### Выставляем параметры"
   ]
  },
  {
   "cell_type": "code",
   "execution_count": 55,
   "metadata": {},
   "outputs": [],
   "source": [
    "# вставляем кодовое слово\n",
    "to_come = driver.find_elements_by_class_name('tmall')[2]\n",
    "to_come.click()\n",
    "sms = driver.find_element_by_id('findsms')\n",
    "sms.send_keys('успейте')"
   ]
  },
  {
   "cell_type": "code",
   "execution_count": 56,
   "metadata": {},
   "outputs": [],
   "source": [
    "# выставляем числа у нас с 1ого по 17ое\n",
    "date_from = driver.find_element_by_id('trigger_d_from')\n",
    "date_from.click()\n",
    "#time.sleep(2)\n",
    "day = driver.find_element_by_xpath(\"//*[.='2']\")\n",
    "day.click()\n",
    "#time.sleep(2)\n",
    "date_from = driver.find_element_by_id('trigger_d_to')\n",
    "date_from.click()\n",
    "#time.sleep(2)\n",
    "day = driver.find_elements_by_xpath(\"//*[.='17']\")[4]\n",
    "day.click()\n",
    "#time.sleep(2)\n",
    "# жмем кнопку отфильтровать\n",
    "button = driver.find_element_by_xpath(\"//*[.='Отфильтровать']\")\n",
    "button.click()"
   ]
  },
  {
   "cell_type": "markdown",
   "metadata": {},
   "source": [
    "#### Теперь надо спарсить данные"
   ]
  },
  {
   "cell_type": "code",
   "execution_count": 57,
   "metadata": {},
   "outputs": [],
   "source": [
    "import requests\n",
    "from bs4 import BeautifulSoup as BS"
   ]
  },
  {
   "cell_type": "code",
   "execution_count": 58,
   "metadata": {},
   "outputs": [],
   "source": [
    "content = driver.page_source"
   ]
  },
  {
   "cell_type": "code",
   "execution_count": 59,
   "metadata": {},
   "outputs": [],
   "source": [
    "soup = BS(content)"
   ]
  },
  {
   "cell_type": "code",
   "execution_count": 60,
   "metadata": {},
   "outputs": [],
   "source": [
    "rows = soup.find_all(\"tbody\")[9]"
   ]
  },
  {
   "cell_type": "code",
   "execution_count": 61,
   "metadata": {},
   "outputs": [
    {
     "name": "stdout",
     "output_type": "stream",
     "text": [
      "\n",
      "статус\n",
      "адресатов\n",
      "смс\n",
      "\n",
      "\n",
      "Успешно доставлено\n",
      "6410 шт.\n",
      "6416 шт.\n",
      "\n",
      "\n",
      "Не доставлено\n",
      "184 шт.\n",
      "184 шт.\n",
      "\n",
      "\n",
      "Ошибка отправки\n",
      "158 шт.\n",
      "159 шт.\n",
      "\n",
      "\n",
      "Итого обработано\n",
      "6752 шт.\n",
      "6759 шт.\n",
      "\n",
      "\n"
     ]
    }
   ],
   "source": [
    "print(rows.text)"
   ]
  },
  {
   "cell_type": "code",
   "execution_count": 62,
   "metadata": {},
   "outputs": [],
   "source": [
    "driver.close()"
   ]
  },
  {
   "cell_type": "code",
   "execution_count": null,
   "metadata": {},
   "outputs": [],
   "source": []
  }
 ],
 "metadata": {
  "kernelspec": {
   "display_name": "Python 3",
   "language": "python",
   "name": "python3"
  },
  "language_info": {
   "codemirror_mode": {
    "name": "ipython",
    "version": 3
   },
   "file_extension": ".py",
   "mimetype": "text/x-python",
   "name": "python",
   "nbconvert_exporter": "python",
   "pygments_lexer": "ipython3",
   "version": "3.7.4"
  }
 },
 "nbformat": 4,
 "nbformat_minor": 2
}
